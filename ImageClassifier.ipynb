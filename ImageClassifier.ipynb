{
  "nbformat": 4,
  "nbformat_minor": 0,
  "metadata": {
    "colab": {
      "name": "ImageClassifier.ipynb",
      "provenance": [],
      "authorship_tag": "ABX9TyO6nNeqE4Qztw8LNbpZYkRF",
      "include_colab_link": true
    },
    "kernelspec": {
      "name": "python3",
      "display_name": "Python 3"
    },
    "language_info": {
      "name": "python"
    }
  },
  "cells": [
    {
      "cell_type": "markdown",
      "metadata": {
        "id": "view-in-github",
        "colab_type": "text"
      },
      "source": [
        "<a href=\"https://colab.research.google.com/github/PRAN20/Image-Classifier/blob/main/ImageClassifier.ipynb\" target=\"_parent\"><img src=\"https://colab.research.google.com/assets/colab-badge.svg\" alt=\"Open In Colab\"/></a>"
      ]
    },
    {
      "cell_type": "markdown",
      "source": [
        "# **Image Classifier**"
      ],
      "metadata": {
        "id": "izHnIqhC4X5F"
      }
    },
    {
      "cell_type": "markdown",
      "source": [
        "**Importing Header**"
      ],
      "metadata": {
        "id": "lBwuQTVw4lze"
      }
    },
    {
      "cell_type": "code",
      "source": [
        "import tensorflow as tf\n",
        "import matplotlib.pyplot as plt\n",
        "import cv2"
      ],
      "metadata": {
        "id": "b5FJDB8_5A9s"
      },
      "execution_count": 11,
      "outputs": []
    },
    {
      "cell_type": "markdown",
      "source": [
        "**Importing DataSets**"
      ],
      "metadata": {
        "id": "KIsbaCxq5Nnh"
      }
    },
    {
      "cell_type": "code",
      "execution_count": 1,
      "metadata": {
        "colab": {
          "base_uri": "https://localhost:8080/"
        },
        "id": "QDEsrII54W-_",
        "outputId": "1c622087-5900-451b-bc07-36152ccd68dc"
      },
      "outputs": [
        {
          "output_type": "stream",
          "name": "stdout",
          "text": [
            "Downloading data from https://storage.googleapis.com/tensorflow/tf-keras-datasets/mnist.npz\n",
            "11493376/11490434 [==============================] - 0s 0us/step\n",
            "11501568/11490434 [==============================] - 0s 0us/step\n"
          ]
        }
      ],
      "source": [
        "(x_train, y_train), (x_test, y_test) = tf.keras.datasets.mnist.load_data()"
      ]
    },
    {
      "cell_type": "code",
      "source": [
        "x_train.shape"
      ],
      "metadata": {
        "colab": {
          "base_uri": "https://localhost:8080/"
        },
        "id": "Ue5FsQ0q43wo",
        "outputId": "fc38a2bd-bfa9-4bc6-95b6-61334bf883f8"
      },
      "execution_count": 2,
      "outputs": [
        {
          "output_type": "execute_result",
          "data": {
            "text/plain": [
              "(60000, 28, 28)"
            ]
          },
          "metadata": {},
          "execution_count": 2
        }
      ]
    },
    {
      "cell_type": "markdown",
      "source": [
        "**Checking Any Element**"
      ],
      "metadata": {
        "id": "zpWl9jNC5bqv"
      }
    },
    {
      "cell_type": "code",
      "source": [
        "image_index = 353 \n",
        "print(y_train[image_index]) \n",
        "plt.imshow(x_train[image_index], cmap='Greys') "
      ],
      "metadata": {
        "colab": {
          "base_uri": "https://localhost:8080/",
          "height": 299
        },
        "id": "fSJSBKbe5hjY",
        "outputId": "882c34df-46c0-4080-ca95-1b8a9ee819f3"
      },
      "execution_count": 4,
      "outputs": [
        {
          "output_type": "stream",
          "name": "stdout",
          "text": [
            "7\n"
          ]
        },
        {
          "output_type": "execute_result",
          "data": {
            "text/plain": [
              "<matplotlib.image.AxesImage at 0x7fd2fc54ff50>"
            ]
          },
          "metadata": {},
          "execution_count": 4
        },
        {
          "output_type": "display_data",
          "data": {
            "image/png": "[encoded data removed]",
            "text/plain": [
              "<Figure size 432x288 with 1 Axes>"
            ]
          },
          "metadata": {
            "needs_background": "light"
          }
        }
      ]
    },
    {
      "cell_type": "markdown",
      "source": [
        "**Reshaping And Processing**"
      ],
      "metadata": {
        "id": "oQxv7CcG5sX2"
      }
    },
    {
      "cell_type": "code",
      "source": [
        "x_train = x_train.reshape(x_train.shape[0], 28, 28, 1)\n",
        "x_test = x_test.reshape(x_test.shape[0], 28, 28, 1)\n",
        "input_shape = (28, 28, 1)\n",
        "x_train = x_train.astype('float32')\n",
        "x_test = x_test.astype('float32')\n",
        "x_train /= 255\n",
        "x_test /= 255\n",
        "print('x_train shape:', x_train.shape)\n",
        "print('Number of images in x_train', x_train.shape[0])\n",
        "print('Number of images in x_test', x_test.shape[0])"
      ],
      "metadata": {
        "colab": {
          "base_uri": "https://localhost:8080/"
        },
        "id": "LfAWEVVo5vbt",
        "outputId": "0b653aa7-b792-43c5-d924-7ff2d6b901d8"
      },
      "execution_count": 5,
      "outputs": [
        {
          "output_type": "stream",
          "name": "stdout",
          "text": [
            "x_train shape: (60000, 28, 28, 1)\n",
            "Number of images in x_train 60000\n",
            "Number of images in x_test 10000\n"
          ]
        }
      ]
    },
    {
      "cell_type": "markdown",
      "source": [
        "**Training Model**"
      ],
      "metadata": {
        "id": "_qKNfSLW6AZu"
      }
    },
    {
      "cell_type": "code",
      "source": [
        "from tensorflow.keras.models import Sequential\n",
        "from tensorflow.keras.layers import Dense, Conv2D, Dropout, Flatten, MaxPooling2D\n",
        "model = Sequential() \n",
        "model.add(Conv2D(28, kernel_size=(3,3), input_shape=input_shape)) \n",
        "model.add(MaxPooling2D(pool_size=(2, 2))) \n",
        "model.add(Flatten()) \n",
        "model.add(Dense(64, activation=tf.nn.relu)) \n",
        "model.add(Dropout(0.2))\n",
        "model.add(Dense(10,activation=tf.nn.softmax)) "
      ],
      "metadata": {
        "id": "0_JUv96G6CeQ"
      },
      "execution_count": 6,
      "outputs": []
    },
    {
      "cell_type": "markdown",
      "source": [
        "**Fitting Our Model**"
      ],
      "metadata": {
        "id": "_TVXfpkj6LEZ"
      }
    },
    {
      "cell_type": "code",
      "source": [
        "model.compile(optimizer='adam', loss='sparse_categorical_crossentropy', metrics=['accuracy'])\n",
        "model.fit(x=x_train,y=y_train, epochs=20)"
      ],
      "metadata": {
        "colab": {
          "base_uri": "https://localhost:8080/"
        },
        "id": "6aGr1kCZ6OP-",
        "outputId": "ddb88f9e-44c8-4f1a-8cb7-475fd7b3d3c7"
      },
      "execution_count": 8,
      "outputs": [
        {
          "output_type": "stream",
          "name": "stdout",
          "text": [
            "Epoch 1/20\n",
            "1875/1875 [==============================] - 29s 15ms/step - loss: 0.0952 - accuracy: 0.9708\n",
            "Epoch 2/20\n",
            "1875/1875 [==============================] - 28s 15ms/step - loss: 0.0713 - accuracy: 0.9770\n",
            "Epoch 3/20\n",
            "1875/1875 [==============================] - 28s 15ms/step - loss: 0.0582 - accuracy: 0.9815\n",
            "Epoch 4/20\n",
            "1875/1875 [==============================] - 28s 15ms/step - loss: 0.0492 - accuracy: 0.9839\n",
            "Epoch 5/20\n",
            "1875/1875 [==============================] - 28s 15ms/step - loss: 0.0427 - accuracy: 0.9862\n",
            "Epoch 6/20\n",
            "1875/1875 [==============================] - 28s 15ms/step - loss: 0.0391 - accuracy: 0.9870\n",
            "Epoch 7/20\n",
            "1875/1875 [==============================] - 29s 15ms/step - loss: 0.0343 - accuracy: 0.9886\n",
            "Epoch 8/20\n",
            "1875/1875 [==============================] - 28s 15ms/step - loss: 0.0313 - accuracy: 0.9893\n",
            "Epoch 9/20\n",
            "1875/1875 [==============================] - 28s 15ms/step - loss: 0.0283 - accuracy: 0.9902\n",
            "Epoch 10/20\n",
            "1875/1875 [==============================] - 28s 15ms/step - loss: 0.0258 - accuracy: 0.9911\n",
            "Epoch 11/20\n",
            "1875/1875 [==============================] - 29s 15ms/step - loss: 0.0238 - accuracy: 0.9917\n",
            "Epoch 12/20\n",
            "1875/1875 [==============================] - 28s 15ms/step - loss: 0.0237 - accuracy: 0.9916\n",
            "Epoch 13/20\n",
            "1875/1875 [==============================] - 28s 15ms/step - loss: 0.0215 - accuracy: 0.9925\n",
            "Epoch 14/20\n",
            "1875/1875 [==============================] - 28s 15ms/step - loss: 0.0216 - accuracy: 0.9926\n",
            "Epoch 15/20\n",
            "1875/1875 [==============================] - 28s 15ms/step - loss: 0.0204 - accuracy: 0.9929\n",
            "Epoch 16/20\n",
            "1875/1875 [==============================] - 28s 15ms/step - loss: 0.0193 - accuracy: 0.9937\n",
            "Epoch 17/20\n",
            "1875/1875 [==============================] - 28s 15ms/step - loss: 0.0194 - accuracy: 0.9932\n",
            "Epoch 18/20\n",
            "1875/1875 [==============================] - 28s 15ms/step - loss: 0.0184 - accuracy: 0.9937\n",
            "Epoch 19/20\n",
            "1875/1875 [==============================] - 28s 15ms/step - loss: 0.0183 - accuracy: 0.9943\n",
            "Epoch 20/20\n",
            "1875/1875 [==============================] - 28s 15ms/step - loss: 0.0184 - accuracy: 0.9938\n"
          ]
        },
        {
          "output_type": "execute_result",
          "data": {
            "text/plain": [
              "<keras.callbacks.History at 0x7fd2f4e4df10>"
            ]
          },
          "metadata": {},
          "execution_count": 8
        }
      ]
    },
    {
      "cell_type": "code",
      "source": [
        "model.evaluate(x_test, y_test)"
      ],
      "metadata": {
        "colab": {
          "base_uri": "https://localhost:8080/"
        },
        "id": "IFGJgk7k6duF",
        "outputId": "b2dffe7b-9e6c-4353-9b14-223b915d60a0"
      },
      "execution_count": 9,
      "outputs": [
        {
          "output_type": "stream",
          "name": "stdout",
          "text": [
            "313/313 [==============================] - 2s 7ms/step - loss: 0.0848 - accuracy: 0.9823\n"
          ]
        },
        {
          "output_type": "execute_result",
          "data": {
            "text/plain": [
              "[0.08482208102941513, 0.9822999835014343]"
            ]
          },
          "metadata": {},
          "execution_count": 9
        }
      ]
    },
    {
      "cell_type": "markdown",
      "source": [
        "**Testing on TestSet**"
      ],
      "metadata": {
        "id": "3KAGoab_6q2C"
      }
    },
    {
      "cell_type": "code",
      "source": [
        "image_index = 353 \n",
        "plt.imshow(x_test[image_index].reshape(28, 28),cmap='Greys')\n",
        "pred = model.predict(x_test[image_index].reshape(1, 28, 28, 1))\n",
        "print(pred.argmax())\n"
      ],
      "metadata": {
        "colab": {
          "base_uri": "https://localhost:8080/",
          "height": 282
        },
        "id": "c6o2KPuY6uxo",
        "outputId": "44c82ae0-a330-4713-c3a2-9355c3df11b3"
      },
      "execution_count": 10,
      "outputs": [
        {
          "output_type": "stream",
          "name": "stdout",
          "text": [
            "6\n"
          ]
        },
        {
          "output_type": "display_data",
          "data": {
            "image/png": "[encoded data removed]",
            "text/plain": [
              "<Figure size 432x288 with 1 Axes>"
            ]
          },
          "metadata": {
            "needs_background": "light"
          }
        }
      ]
    },
    {
      "cell_type": "code",
      "source": [
        "im = cv2.imread(\"four.jpg\")\n",
        "plt.imshow(im, cmap=\"gray\"), plt.axis(\"off\")\n",
        "plt.show()"
      ],
      "metadata": {
        "colab": {
          "base_uri": "https://localhost:8080/",
          "height": 248
        },
        "id": "1lAE8I0D90-O",
        "outputId": "76baf872-e77d-47c1-ca03-af4008f0f550"
      },
      "execution_count": 19,
      "outputs": [
        {
          "output_type": "display_data",
          "data": {
            "image/png": "[encoded data removed]",
            "text/plain": [
              "<Figure size 432x288 with 1 Axes>"
            ]
          },
          "metadata": {
            "needs_background": "light"
          }
        }
      ]
    },
    {
      "cell_type": "code",
      "source": [
        "im.shape"
      ],
      "metadata": {
        "colab": {
          "base_uri": "https://localhost:8080/"
        },
        "id": "TyKCYRDd_tZ5",
        "outputId": "fdaa3709-d0ba-4bee-9796-4d6bfbac4f00"
      },
      "execution_count": 20,
      "outputs": [
        {
          "output_type": "execute_result",
          "data": {
            "text/plain": [
              "(164, 135, 3)"
            ]
          },
          "metadata": {},
          "execution_count": 20
        }
      ]
    },
    {
      "cell_type": "markdown",
      "source": [
        "**Load Image**"
      ],
      "metadata": {
        "id": "YOobBEPm_0hH"
      }
    },
    {
      "cell_type": "code",
      "source": [
        "from tensorflow.keras.preprocessing import image \n",
        "img = image.load_img(\"four.jpg\", target_size=(28, 28),color_mode=\"grayscale\")"
      ],
      "metadata": {
        "id": "oGJV3htM_2wn"
      },
      "execution_count": 21,
      "outputs": []
    },
    {
      "cell_type": "code",
      "source": [
        "img_array = image.img_to_array(img)"
      ],
      "metadata": {
        "id": "HGvarQhwAEkE"
      },
      "execution_count": 22,
      "outputs": []
    },
    {
      "cell_type": "code",
      "source": [
        "img_array.shape"
      ],
      "metadata": {
        "colab": {
          "base_uri": "https://localhost:8080/"
        },
        "id": "4tRo79tnAIRf",
        "outputId": "ce0e8729-bbfc-4024-81e1-902ccb85a6f1"
      },
      "execution_count": 23,
      "outputs": [
        {
          "output_type": "execute_result",
          "data": {
            "text/plain": [
              "(28, 28, 1)"
            ]
          },
          "metadata": {},
          "execution_count": 23
        }
      ]
    },
    {
      "cell_type": "code",
      "source": [
        "img_array = img_array[:,:,0]\n",
        "img_array.shape"
      ],
      "metadata": {
        "colab": {
          "base_uri": "https://localhost:8080/"
        },
        "id": "UprOzehgAJbZ",
        "outputId": "84b4f0e7-cdeb-4d49-cef2-1f461da75b42"
      },
      "execution_count": 24,
      "outputs": [
        {
          "output_type": "execute_result",
          "data": {
            "text/plain": [
              "(28, 28)"
            ]
          },
          "metadata": {},
          "execution_count": 24
        }
      ]
    },
    {
      "cell_type": "code",
      "source": [
        "plt.imshow(img_array,cmap=\"Greys\")"
      ],
      "metadata": {
        "colab": {
          "base_uri": "https://localhost:8080/",
          "height": 282
        },
        "id": "gc0z5klrAMiY",
        "outputId": "4752449b-0f66-4562-d0a1-acf1d4f3faa9"
      },
      "execution_count": 25,
      "outputs": [
        {
          "output_type": "execute_result",
          "data": {
            "text/plain": [
              "<matplotlib.image.AxesImage at 0x7fd2e7d8e550>"
            ]
          },
          "metadata": {},
          "execution_count": 25
        },
        {
          "output_type": "display_data",
          "data": {
            "image/png": "[encoded data removed]",
            "text/plain": [
              "<Figure size 432x288 with 1 Axes>"
            ]
          },
          "metadata": {
            "needs_background": "light"
          }
        }
      ]
    },
    {
      "cell_type": "markdown",
      "source": [
        "**Convert Image Into Array**"
      ],
      "metadata": {
        "id": "v8jtxQmMAXuU"
      }
    },
    {
      "cell_type": "code",
      "source": [
        "img_array=1-img_array\n",
        "plt.imshow(img_array,cmap=\"Greys\")"
      ],
      "metadata": {
        "colab": {
          "base_uri": "https://localhost:8080/",
          "height": 282
        },
        "id": "PhQDTLaAASIp",
        "outputId": "3dde07dc-7732-4f21-b3ad-6c2043e38e6d"
      },
      "execution_count": 26,
      "outputs": [
        {
          "output_type": "execute_result",
          "data": {
            "text/plain": [
              "<matplotlib.image.AxesImage at 0x7fd2e7d70c90>"
            ]
          },
          "metadata": {},
          "execution_count": 26
        },
        {
          "output_type": "display_data",
          "data": {
            "image/png": "[encoded data removed]",
            "text/plain": [
              "<Figure size 432x288 with 1 Axes>"
            ]
          },
          "metadata": {
            "needs_background": "light"
          }
        }
      ]
    },
    {
      "cell_type": "markdown",
      "source": [
        "**Running Prediction On Image**"
      ],
      "metadata": {
        "id": "7opdEcg9AjGm"
      }
    },
    {
      "cell_type": "code",
      "source": [
        "plt.imshow(img_array,cmap=\"Greys\")\n",
        "pred = model.predict(img_array.reshape(1, 28, 28, 1))\n",
        "print(pred.argmax())"
      ],
      "metadata": {
        "colab": {
          "base_uri": "https://localhost:8080/",
          "height": 282
        },
        "id": "E84_51XKAo3l",
        "outputId": "e7590ee1-07e5-4962-9dbc-ab74f9439c76"
      },
      "execution_count": 27,
      "outputs": [
        {
          "output_type": "stream",
          "name": "stdout",
          "text": [
            "4\n"
          ]
        },
        {
          "output_type": "display_data",
          "data": {
            "image/png": "[encoded data removed]",
            "text/plain": [
              "<Figure size 432x288 with 1 Axes>"
            ]
          },
          "metadata": {
            "needs_background": "light"
          }
        }
      ]
    }
  ]
}